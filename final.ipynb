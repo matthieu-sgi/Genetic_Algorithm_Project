{
 "cells": [
  {
   "cell_type": "markdown",
   "metadata": {},
   "source": [
    "# Projet d'algorithme génétique\n",
    "### 2-Plan d'action\n",
    "\n",
    "1)  Quelle est la taille de l’espace de recherche (utiliser une notation scientifique)?\n",
    "\n",
    "Les paramètres ne sont pas obligatoirement des entiers. Il sont compris dans un espace allant de [-100,100]. De ce fait, il existe une infinité de solutions.\n",
    "\n",
    "\n",
    "\n",
    "3)  Décrivez les operateurs mis en œuvre (mutation, croissement)?\n",
    "\n",
    "Pour ma mutation, je mute 0 à 6 paramètres de chaque individu de ma population en leur attribuant une valeur aléatoire dans [-100,100].\\\n",
    "Pour mon croisement, je prends les 3 premiers paramètres du premier individu et je \n",
    "\n"
   ]
  },
  {
   "cell_type": "code",
   "execution_count": 2,
   "metadata": {},
   "outputs": [],
   "source": [
    "import numpy as np\n",
    "import math\n",
    "import csv\n",
    "import random\n",
    "import copy\n",
    "import matplotlib.pyplot as plt\n",
    "import math\n",
    "\n",
    "class Unit :\n",
    "    def __init__(self,extract: list):\n",
    "        self.training_data = extract"
   ]
  },
  {
   "cell_type": "markdown",
   "metadata": {},
   "source": [
    "2) Quelle est votre fonction fitness?\n",
    "\n",
    "Ma fonction fitness effectue la somme des distance entre ma fonction issue de mes paramètres et l'ensemble des points de position_sample.csv"
   ]
  },
  {
   "cell_type": "code",
   "execution_count": 3,
   "metadata": {},
   "outputs": [],
   "source": [
    "def Fitness(self, test_param : list):\n",
    "        \n",
    "        distance_moyenne = 0\n",
    "        for i in self.training_data :\n",
    "            t= i[0]\n",
    "            x_test = test_param[0] * (math.sin(test_param[1] * t + test_param[2]))\n",
    "            y_test = test_param[3] * (math.sin(test_param[4] * t + test_param[5]))\n",
    "            distance_moyenne += math.sqrt((x_test-i[1])**2 + (y_test-i[2])**2)\n",
    "            # distance_moyenne += (x_test-i[1])**2 + (y_test-i[2])**2\n",
    "        # return float(distance_moyenne/len(self.training_data))\n",
    "        return distance_moyenne"
   ]
  }
 ],
 "metadata": {
  "interpreter": {
   "hash": "916dbcbb3f70747c44a77c7bcd40155683ae19c65e1c03b4aa3499c5328201f1"
  },
  "kernelspec": {
   "display_name": "Python 3.8.10 64-bit",
   "language": "python",
   "name": "python3"
  },
  "language_info": {
   "codemirror_mode": {
    "name": "ipython",
    "version": 3
   },
   "file_extension": ".py",
   "mimetype": "text/x-python",
   "name": "python",
   "nbconvert_exporter": "python",
   "pygments_lexer": "ipython3",
   "version": "3.8.10"
  },
  "orig_nbformat": 4
 },
 "nbformat": 4,
 "nbformat_minor": 2
}
