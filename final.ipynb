{
 "cells": [
  {
   "cell_type": "markdown",
   "metadata": {},
   "source": [
    "# Projet d'algorithme génétique\n",
    "### 2-Plan d'action\n",
    "1) Les paramètres ne sont pas obligatoirement des entiers. Il sont compris dans un espace allant de [-100,100]. De ce fait, il existe une infinité de solutions.\n",
    "\n",
    "2)"
   ]
  },
  {
   "cell_type": "code",
   "execution_count": null,
   "metadata": {},
   "outputs": [],
   "source": []
  }
 ],
 "metadata": {
  "language_info": {
   "name": "python"
  },
  "orig_nbformat": 4
 },
 "nbformat": 4,
 "nbformat_minor": 2
}
